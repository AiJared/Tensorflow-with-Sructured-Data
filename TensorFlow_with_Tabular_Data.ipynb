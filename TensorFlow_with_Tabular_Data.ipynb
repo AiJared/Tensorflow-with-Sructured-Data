{
  "nbformat": 4,
  "nbformat_minor": 0,
  "metadata": {
    "colab": {
      "provenance": [],
      "authorship_tag": "ABX9TyMFmiPxLNM+sFt2qF/5H5PC",
      "include_colab_link": true
    },
    "kernelspec": {
      "name": "python3",
      "display_name": "Python 3"
    },
    "language_info": {
      "name": "python"
    }
  },
  "cells": [
    {
      "cell_type": "markdown",
      "metadata": {
        "id": "view-in-github",
        "colab_type": "text"
      },
      "source": [
        "<a href=\"https://colab.research.google.com/github/Kerriea-star/Tensorflow-with-Sructured-Data/blob/main/TensorFlow_with_Tabular_Data.ipynb\" target=\"_parent\"><img src=\"https://colab.research.google.com/assets/colab-badge.svg\" alt=\"Open In Colab\"/></a>"
      ]
    },
    {
      "cell_type": "markdown",
      "source": [
        "How to classify structured data, such as tabular data, using a simplified version of the PetFinder dataset from a Kaggle competition stored in a CSV file.\n",
        "\n",
        "We will use Keras to define the model, the Keras preprocessing layers as a bridge to map from columns in a CSV file to features used to train the model. The goal is to predict if a pet will be adopted.\n",
        "\n",
        "This tutorial contains complete code for:\n",
        "\n",
        "\n",
        "*   Loading a CSV file into a DataFrame using pandas\n",
        "*   Building an input pipline to batch and shuffle the rows using tf.data.\n",
        "*   Mapping from columns in the CSV file to features used to train the model with the Keras preprocessing layers.\n",
        "*   Building, training, and evaluating a model using the Keras built-in methods.\n",
        "\n"
      ],
      "metadata": {
        "id": "nWtXj4lFBg8i"
      }
    },
    {
      "cell_type": "code",
      "execution_count": 7,
      "metadata": {
        "id": "02__dhi-zfFa"
      },
      "outputs": [],
      "source": [
        "# imports\n",
        "import numpy as np\n",
        "import pandas as pd\n",
        "import tensorflow as tf\n",
        "\n",
        "from tensorflow.keras import layers"
      ]
    },
    {
      "cell_type": "code",
      "source": [
        "tf.__version__"
      ],
      "metadata": {
        "colab": {
          "base_uri": "https://localhost:8080/",
          "height": 35
        },
        "id": "aPRyY5atEKcd",
        "outputId": "88ede13c-533a-4e03-aa2e-defe22a85a11"
      },
      "execution_count": 8,
      "outputs": [
        {
          "output_type": "execute_result",
          "data": {
            "text/plain": [
              "'2.12.0'"
            ],
            "application/vnd.google.colaboratory.intrinsic+json": {
              "type": "string"
            }
          },
          "metadata": {},
          "execution_count": 8
        }
      ]
    }
  ]
}